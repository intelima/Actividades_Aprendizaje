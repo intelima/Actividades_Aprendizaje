{
  "nbformat": 4,
  "nbformat_minor": 0,
  "metadata": {
    "colab": {
      "provenance": [],
      "authorship_tag": "ABX9TyMv8eIfO6wIO45KPJ5BD3Qe",
      "include_colab_link": true
    },
    "kernelspec": {
      "name": "python3",
      "display_name": "Python 3"
    },
    "language_info": {
      "name": "python"
    }
  },
  "cells": [
    {
      "cell_type": "markdown",
      "metadata": {
        "id": "view-in-github",
        "colab_type": "text"
      },
      "source": [
        "<a href=\"https://colab.research.google.com/github/intelima/Actividades_Aprendizaje/blob/main/A01794339__Actividad_1.ipynb\" target=\"_parent\"><img src=\"https://colab.research.google.com/assets/colab-badge.svg\" alt=\"Open In Colab\"/></a>"
      ]
    },
    {
      "cell_type": "markdown",
      "source": [
        "Actividad 1. Practica de ejercicios de Cognitive AI"
      ],
      "metadata": {
        "id": "c1cDoOtWlcSy"
      }
    },
    {
      "cell_type": "markdown",
      "source": [
        "Modulo 1."
      ],
      "metadata": {
        "id": "e7lLpgoAvNmK"
      }
    }
  ]
}